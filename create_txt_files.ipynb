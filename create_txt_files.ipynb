{
 "cells": [
  {
   "cell_type": "code",
   "execution_count": 15,
   "metadata": {},
   "outputs": [],
   "source": [
    "import glob\n",
    "\n",
    "\n",
    "train_depths_folder = \"/data/ssd2/abhiroop/mvs/mvs_training/dtu/train/Depths/**/*.pfm\"\n",
    "val_depths_folder = \"/data/ssd2/abhiroop/mvs/mvs_training/dtu/val/Depths/**/*.pfm\"\n",
    "\n",
    "# Use glob.glob to get a list of PFM files\n",
    "train_pfm_files = sorted(glob.glob(train_depths_folder, recursive=True))\n",
    "val_pfm_files = sorted(glob.glob(val_depths_folder, recursive=True))\n",
    "\n"
   ]
  },
  {
   "cell_type": "code",
   "execution_count": 16,
   "metadata": {},
   "outputs": [
    {
     "data": {
      "text/plain": [
       "(3773, 833)"
      ]
     },
     "execution_count": 16,
     "metadata": {},
     "output_type": "execute_result"
    }
   ],
   "source": [
    "len(train_pfm_files), len(val_pfm_files)"
   ]
  },
  {
   "cell_type": "code",
   "execution_count": 17,
   "metadata": {},
   "outputs": [],
   "source": [
    "with open('train.txt', 'w') as f:\n",
    "    for i in train_pfm_files:\n",
    "        f.write(i + '\\n')\n",
    "\n",
    "with open('val.txt', 'w') as f:\n",
    "    for i in val_pfm_files:\n",
    "        f.write(i + '\\n')"
   ]
  },
  {
   "cell_type": "code",
   "execution_count": null,
   "metadata": {},
   "outputs": [],
   "source": []
  }
 ],
 "metadata": {
  "kernelspec": {
   "display_name": "taming",
   "language": "python",
   "name": "python3"
  },
  "language_info": {
   "codemirror_mode": {
    "name": "ipython",
    "version": 3
   },
   "file_extension": ".py",
   "mimetype": "text/x-python",
   "name": "python",
   "nbconvert_exporter": "python",
   "pygments_lexer": "ipython3",
   "version": "3.8.5"
  }
 },
 "nbformat": 4,
 "nbformat_minor": 2
}
